{
 "cells": [
  {
   "cell_type": "markdown",
   "metadata": {},
   "source": [
    "<h2>Imports</h2>"
   ]
  },
  {
   "cell_type": "code",
   "execution_count": 1,
   "metadata": {},
   "outputs": [],
   "source": [
    "from census_database import Database"
   ]
  },
  {
   "cell_type": "markdown",
   "metadata": {},
   "source": [
    "<h2>Exercício 1</h2>\n",
    "<h3>Juntar as bases, observe as colunas coincidentes, caso não exista utilize o indice.</h3>"
   ]
  },
  {
   "cell_type": "code",
   "execution_count": 5,
   "metadata": {},
   "outputs": [
    {
     "name": "stdout",
     "output_type": "stream",
     "text": [
      "Census data READY!\n"
     ]
    },
    {
     "data": {
      "text/html": [
       "<div>\n",
       "<style scoped>\n",
       "    .dataframe tbody tr th:only-of-type {\n",
       "        vertical-align: middle;\n",
       "    }\n",
       "\n",
       "    .dataframe tbody tr th {\n",
       "        vertical-align: top;\n",
       "    }\n",
       "\n",
       "    .dataframe thead th {\n",
       "        text-align: right;\n",
       "    }\n",
       "</style>\n",
       "<table border=\"1\" class=\"dataframe\">\n",
       "  <thead>\n",
       "    <tr style=\"text-align: right;\">\n",
       "      <th></th>\n",
       "      <th>ID</th>\n",
       "      <th>Region</th>\n",
       "      <th>Main Source of Income</th>\n",
       "      <th>Agricultural Household indicator</th>\n",
       "      <th>Household Head Sex</th>\n",
       "      <th>Household Head Age</th>\n",
       "      <th>Household Head Marital Status</th>\n",
       "      <th>Household Head Class of Worker</th>\n",
       "      <th>Type of Household</th>\n",
       "      <th>Total Number of Family members</th>\n",
       "      <th>...</th>\n",
       "      <th>Number of Refrigerator/Freezer</th>\n",
       "      <th>Number of Washing Machine</th>\n",
       "      <th>Number of Airconditioner</th>\n",
       "      <th>Number of Car, Jeep, Van</th>\n",
       "      <th>Number of Landline/wireless telephones</th>\n",
       "      <th>Number of Cellular phone</th>\n",
       "      <th>Number of Personal Computer</th>\n",
       "      <th>Number of Stove with Oven/Gas Range</th>\n",
       "      <th>Number of Motorized Banca</th>\n",
       "      <th>Number of Motorcycle/Tricycle</th>\n",
       "    </tr>\n",
       "  </thead>\n",
       "  <tbody>\n",
       "    <tr>\n",
       "      <th>0</th>\n",
       "      <td>1</td>\n",
       "      <td>A</td>\n",
       "      <td>Wage/Salaries</td>\n",
       "      <td>0</td>\n",
       "      <td>Female</td>\n",
       "      <td>49</td>\n",
       "      <td>Single</td>\n",
       "      <td>Worked for government/government corporation</td>\n",
       "      <td>Extended Family</td>\n",
       "      <td>4</td>\n",
       "      <td>...</td>\n",
       "      <td>1</td>\n",
       "      <td>1</td>\n",
       "      <td>0</td>\n",
       "      <td>0</td>\n",
       "      <td>0</td>\n",
       "      <td>2</td>\n",
       "      <td>1</td>\n",
       "      <td>0</td>\n",
       "      <td>0</td>\n",
       "      <td>1</td>\n",
       "    </tr>\n",
       "    <tr>\n",
       "      <th>1</th>\n",
       "      <td>2</td>\n",
       "      <td>A</td>\n",
       "      <td>Wage/Salaries</td>\n",
       "      <td>0</td>\n",
       "      <td>Male</td>\n",
       "      <td>40</td>\n",
       "      <td>Married</td>\n",
       "      <td>Worked for private establishment</td>\n",
       "      <td>Single Family</td>\n",
       "      <td>3</td>\n",
       "      <td>...</td>\n",
       "      <td>0</td>\n",
       "      <td>1</td>\n",
       "      <td>0</td>\n",
       "      <td>0</td>\n",
       "      <td>0</td>\n",
       "      <td>3</td>\n",
       "      <td>1</td>\n",
       "      <td>0</td>\n",
       "      <td>0</td>\n",
       "      <td>2</td>\n",
       "    </tr>\n",
       "    <tr>\n",
       "      <th>2</th>\n",
       "      <td>3</td>\n",
       "      <td>A</td>\n",
       "      <td>Wage/Salaries</td>\n",
       "      <td>1</td>\n",
       "      <td>Male</td>\n",
       "      <td>39</td>\n",
       "      <td>Married</td>\n",
       "      <td>Worked for private establishment</td>\n",
       "      <td>Single Family</td>\n",
       "      <td>6</td>\n",
       "      <td>...</td>\n",
       "      <td>0</td>\n",
       "      <td>0</td>\n",
       "      <td>0</td>\n",
       "      <td>0</td>\n",
       "      <td>0</td>\n",
       "      <td>0</td>\n",
       "      <td>0</td>\n",
       "      <td>0</td>\n",
       "      <td>0</td>\n",
       "      <td>0</td>\n",
       "    </tr>\n",
       "    <tr>\n",
       "      <th>3</th>\n",
       "      <td>4</td>\n",
       "      <td>A</td>\n",
       "      <td>Wage/Salaries</td>\n",
       "      <td>0</td>\n",
       "      <td>Male</td>\n",
       "      <td>52</td>\n",
       "      <td>Married</td>\n",
       "      <td>Employer in own family-operated farm or business</td>\n",
       "      <td>Single Family</td>\n",
       "      <td>3</td>\n",
       "      <td>...</td>\n",
       "      <td>0</td>\n",
       "      <td>0</td>\n",
       "      <td>0</td>\n",
       "      <td>0</td>\n",
       "      <td>0</td>\n",
       "      <td>1</td>\n",
       "      <td>0</td>\n",
       "      <td>0</td>\n",
       "      <td>0</td>\n",
       "      <td>0</td>\n",
       "    </tr>\n",
       "    <tr>\n",
       "      <th>4</th>\n",
       "      <td>5</td>\n",
       "      <td>A</td>\n",
       "      <td>Wage/Salaries</td>\n",
       "      <td>0</td>\n",
       "      <td>Male</td>\n",
       "      <td>65</td>\n",
       "      <td>Married</td>\n",
       "      <td>Self-employed wihout any employee</td>\n",
       "      <td>Single Family</td>\n",
       "      <td>4</td>\n",
       "      <td>...</td>\n",
       "      <td>1</td>\n",
       "      <td>0</td>\n",
       "      <td>0</td>\n",
       "      <td>0</td>\n",
       "      <td>0</td>\n",
       "      <td>3</td>\n",
       "      <td>0</td>\n",
       "      <td>0</td>\n",
       "      <td>0</td>\n",
       "      <td>1</td>\n",
       "    </tr>\n",
       "  </tbody>\n",
       "</table>\n",
       "<p>5 rows × 54 columns</p>\n",
       "</div>"
      ],
      "text/plain": [
       "   ID Region Main Source of Income  Agricultural Household indicator  \\\n",
       "0   1      A         Wage/Salaries                                 0   \n",
       "1   2      A         Wage/Salaries                                 0   \n",
       "2   3      A         Wage/Salaries                                 1   \n",
       "3   4      A         Wage/Salaries                                 0   \n",
       "4   5      A         Wage/Salaries                                 0   \n",
       "\n",
       "  Household Head Sex  Household Head Age Household Head Marital Status  \\\n",
       "0             Female                  49                        Single   \n",
       "1               Male                  40                       Married   \n",
       "2               Male                  39                       Married   \n",
       "3               Male                  52                       Married   \n",
       "4               Male                  65                       Married   \n",
       "\n",
       "                     Household Head Class of Worker Type of Household  \\\n",
       "0      Worked for government/government corporation   Extended Family   \n",
       "1                  Worked for private establishment     Single Family   \n",
       "2                  Worked for private establishment     Single Family   \n",
       "3  Employer in own family-operated farm or business     Single Family   \n",
       "4                 Self-employed wihout any employee     Single Family   \n",
       "\n",
       "   Total Number of Family members  ...  Number of Refrigerator/Freezer  \\\n",
       "0                               4  ...                               1   \n",
       "1                               3  ...                               0   \n",
       "2                               6  ...                               0   \n",
       "3                               3  ...                               0   \n",
       "4                               4  ...                               1   \n",
       "\n",
       "   Number of Washing Machine  Number of Airconditioner  \\\n",
       "0                          1                         0   \n",
       "1                          1                         0   \n",
       "2                          0                         0   \n",
       "3                          0                         0   \n",
       "4                          0                         0   \n",
       "\n",
       "  Number of Car, Jeep, Van Number of Landline/wireless telephones  \\\n",
       "0                        0                                      0   \n",
       "1                        0                                      0   \n",
       "2                        0                                      0   \n",
       "3                        0                                      0   \n",
       "4                        0                                      0   \n",
       "\n",
       "   Number of Cellular phone  Number of Personal Computer  \\\n",
       "0                         2                            1   \n",
       "1                         3                            1   \n",
       "2                         0                            0   \n",
       "3                         1                            0   \n",
       "4                         3                            0   \n",
       "\n",
       "   Number of Stove with Oven/Gas Range  Number of Motorized Banca  \\\n",
       "0                                    0                          0   \n",
       "1                                    0                          0   \n",
       "2                                    0                          0   \n",
       "3                                    0                          0   \n",
       "4                                    0                          0   \n",
       "\n",
       "   Number of Motorcycle/Tricycle  \n",
       "0                              1  \n",
       "1                              2  \n",
       "2                              0  \n",
       "3                              0  \n",
       "4                              1  \n",
       "\n",
       "[5 rows x 54 columns]"
      ]
     },
     "execution_count": 5,
     "metadata": {},
     "output_type": "execute_result"
    }
   ],
   "source": [
    "database = Database()\n",
    "database.data.head()"
   ]
  },
  {
   "cell_type": "markdown",
   "metadata": {},
   "source": [
    "<h2>Exercício 2</h2>\n",
    "<h3>Faca um relatório no qual cada variável quantitativa deve ter:</h3>\n",
    "<ul>\n",
    "<li>Mínimo</li>\n",
    "<li>Primeiro Quartil</li>\n",
    "<li>Mediana</li>\n",
    "<li>Terceiro Quartil</li>\n",
    "<li>Máximo</li>\n",
    "<li>Média</li>\n",
    "</ul>\n"
   ]
  },
  {
   "cell_type": "code",
   "execution_count": null,
   "metadata": {},
   "outputs": [],
   "source": []
  },
  {
   "cell_type": "markdown",
   "metadata": {},
   "source": [
    "<h2>Exercício 3</h2>\n",
    "<h3>Trate os dados Outliers como faltantes e crie novamente o relatório para observarmos a diferenca:</h3>\n"
   ]
  },
  {
   "cell_type": "code",
   "execution_count": null,
   "metadata": {},
   "outputs": [],
   "source": []
  },
  {
   "cell_type": "markdown",
   "metadata": {},
   "source": [
    "<h2>Exercício 4</h2>\n",
    "<h3>Trate os dados Outliers inserindo no lugar a mediana e crie novamente o relatório para observarmos a diferenca:</h3>\n"
   ]
  },
  {
   "cell_type": "code",
   "execution_count": null,
   "metadata": {},
   "outputs": [],
   "source": []
  },
  {
   "cell_type": "markdown",
   "metadata": {},
   "source": [
    "<h2>Exercício 5</h2>\n",
    "<h3>Faca um relatório no qual cada variável qualitativa deve ter:</h3>\n",
    "<ul>\n",
    "<li>Frequência Absoluta</li>\n",
    "<li>Frequência Acumulada</li>\n",
    "<li>Frequência Relativa</li>\n",
    "<li>Frequência Relativa Acumulada</li>\n",
    "</ul>\n"
   ]
  },
  {
   "cell_type": "code",
   "execution_count": null,
   "metadata": {},
   "outputs": [],
   "source": []
  },
  {
   "cell_type": "markdown",
   "metadata": {},
   "source": [
    "<h2>Exercício 6</h2>\n",
    "<h3>Separe os 10% com maior renda(Ordem decrescente) em um novo csv</h3>\n"
   ]
  },
  {
   "cell_type": "code",
   "execution_count": null,
   "metadata": {},
   "outputs": [],
   "source": []
  },
  {
   "cell_type": "markdown",
   "metadata": {},
   "source": [
    "<h2>Exercício 7</h2>\n",
    "<h3>Criar os dummies para pelo menos 3 das variáveis qualitativas</h3>\n"
   ]
  },
  {
   "cell_type": "code",
   "execution_count": null,
   "metadata": {},
   "outputs": [],
   "source": []
  },
  {
   "cell_type": "markdown",
   "metadata": {},
   "source": [
    "<h2>Exercício 8</h2>\n",
    "<h3>Compare a média das variáveis(Quantitativos + 3 Qualitativas) da populacão dos 10% com maior renda vs o restante</h3>\n"
   ]
  },
  {
   "cell_type": "code",
   "execution_count": null,
   "metadata": {},
   "outputs": [],
   "source": []
  }
 ],
 "metadata": {
  "interpreter": {
   "hash": "9bb63714e590c1c43720ef709dae4a3373251364181f530f8721f5a34b3f03bb"
  },
  "kernelspec": {
   "display_name": "Python 3.8.10 64-bit ('Lets_Code_DS': venv)",
   "name": "python3"
  },
  "language_info": {
   "codemirror_mode": {
    "name": "ipython",
    "version": 3
   },
   "file_extension": ".py",
   "mimetype": "text/x-python",
   "name": "python",
   "nbconvert_exporter": "python",
   "pygments_lexer": "ipython3",
   "version": "3.8.10"
  },
  "orig_nbformat": 4
 },
 "nbformat": 4,
 "nbformat_minor": 2
}
